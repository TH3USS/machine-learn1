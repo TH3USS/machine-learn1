{
 "cells": [
  {
   "cell_type": "code",
   "execution_count": null,
   "id": "a530d1b7",
   "metadata": {
    "vscode": {
     "languageId": "plaintext"
    }
   },
   "outputs": [],
   "source": [
    "import pandas as pd\n",
    "\n",
    "df = pd.read_csv('pizzas.csv')\n",
    "df\n",
    "\n",
    "df.plot(kind='scatter', x='diametro', y='preco');\n",
    "\n",
    "from sklear import linear_model\n",
    "\n",
    "modelo = linear_model.LinearRegression()\n",
    "x = df[['diametro']]\n",
    "y = df[['preco']]\n",
    "\n",
    "modelo.fit(x, y) #treinando o modelo\n",
    "\n",
    "print(modelo.predict([[30]])[0][0])"
   ]
  }
 ],
 "metadata": {
  "language_info": {
   "name": "python"
  }
 },
 "nbformat": 4,
 "nbformat_minor": 5
}
